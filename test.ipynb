{
 "cells": [
  {
   "cell_type": "markdown",
   "id": "c3a62baf-9d9c-4a26-bfa7-c901809e0dee",
   "metadata": {},
   "source": [
    "## Test Notebook\n",
    "\n",
    "This will confirm that we can download and install python packages"
   ]
  },
  {
   "cell_type": "code",
   "execution_count": null,
   "id": "7f218e47-5c83-49c6-851d-4a2d7e320e7b",
   "metadata": {},
   "outputs": [],
   "source": [
    "!pip install pandas"
   ]
  },
  {
   "cell_type": "markdown",
   "id": "8568a5f0-21a0-4556-bb3e-5edb51fde61d",
   "metadata": {},
   "source": [
    "This will confirm that we can load installed packages"
   ]
  },
  {
   "cell_type": "code",
   "execution_count": null,
   "id": "b369ae3b-2600-49be-9b9c-1df48ad79a18",
   "metadata": {},
   "outputs": [],
   "source": [
    "import pandas as pd"
   ]
  },
  {
   "cell_type": "markdown",
   "id": "2d5842ae-022b-4283-b657-84b97f59190a",
   "metadata": {},
   "source": [
    "This will confirm that we can access online data from the notebook"
   ]
  },
  {
   "cell_type": "code",
   "execution_count": null,
   "id": "13e3183a-d9bc-4ba2-84e3-3d1e6301adaf",
   "metadata": {},
   "outputs": [],
   "source": [
    "pd.read_csv('https://github.com/LBNL-UCB-STI/beam/raw/develop/test/input/sf-light/taz-parking.csv.gz')"
   ]
  }
 ],
 "metadata": {
  "kernelspec": {
   "display_name": "Python 3",
   "language": "python",
   "name": "python3"
  },
  "language_info": {
   "codemirror_mode": {
    "name": "ipython",
    "version": 3
   },
   "file_extension": ".py",
   "mimetype": "text/x-python",
   "name": "python",
   "nbconvert_exporter": "python",
   "pygments_lexer": "ipython3",
   "version": "3.7.10"
  }
 },
 "nbformat": 4,
 "nbformat_minor": 5
}
